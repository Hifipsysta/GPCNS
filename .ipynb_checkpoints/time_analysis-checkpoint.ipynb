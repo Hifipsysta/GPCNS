{
 "cells": [
  {
   "cell_type": "code",
   "execution_count": 1,
   "id": "6ece412d",
   "metadata": {},
   "outputs": [],
   "source": [
    "import numpy as np\n",
    "import matplotlib.pyplot as plt"
   ]
  },
  {
   "cell_type": "code",
   "execution_count": 2,
   "id": "fc79ac39",
   "metadata": {},
   "outputs": [],
   "source": [
    "time_GPM_CF100 = 674451\n",
    "time_TRGP_CF100 = 2012366\n",
    "time_SGP_CF100 = 579855\n",
    "time_GPCNS_CF100 = 579984\n",
    "time_SEGPCNS_CF100 = 612206\n",
    "time_CGP_CF100 = 6248209.8\n",
    "time_Adam_NSCL_CF100 = 7709784.1"
   ]
  },
  {
   "cell_type": "code",
   "execution_count": 3,
   "id": "520e215c",
   "metadata": {},
   "outputs": [],
   "source": [
    "time_GPM_CFsup = 595630\n",
    "time_TRGP_CFsup = 971445\n",
    "time_SGP_CFsup = 621325\n",
    "time_GPCNS_CFsup = 967065\n",
    "time_SEGPCNS_CFsup = 1618893\n",
    "time_CGP_CFsup = 12177262\n",
    "time_Adam_NSCL_CFSup = 15193538.9"
   ]
  },
  {
   "cell_type": "code",
   "execution_count": 4,
   "id": "508be82e",
   "metadata": {},
   "outputs": [],
   "source": [
    "time_GPM_Mini = 1766748\n",
    "time_TRGP_Mini = 2754038\n",
    "time_SGP_Mini = 1852450\n",
    "time_GPCNS_Mini = 970083\n",
    "time_SEGPCNS_Mini = 2841821\n",
    "time_CGP_Mini = 36310098.7\n",
    "time_Adam_NSCL_Mini = 37784640.2"
   ]
  },
  {
   "cell_type": "code",
   "execution_count": 5,
   "id": "8bd07573",
   "metadata": {},
   "outputs": [],
   "source": [
    "time_CF100 = [time_GPM_CF100, time_TRGP_CF100, time_SGP_CF100, time_GPCNS_CF100, time_SEGPCNS_CF100, time_CGP_CF100, time_Adam_NSCL_CF100]\n",
    "time_CFsup = [time_GPM_CFsup, time_TRGP_CFsup, time_SGP_CFsup, time_GPCNS_CFsup, time_SEGPCNS_CFsup, time_CGP_CFsup, time_Adam_NSCL_CFSup]\n",
    "time_Mini = [time_GPM_Mini, time_TRGP_Mini, time_SGP_Mini, time_GPCNS_Mini, time_SEGPCNS_Mini, time_CGP_Mini, time_Adam_NSCL_Mini]"
   ]
  },
  {
   "cell_type": "code",
   "execution_count": null,
   "id": "9d3c3e19",
   "metadata": {},
   "outputs": [],
   "source": []
  },
  {
   "cell_type": "code",
   "execution_count": 6,
   "id": "34bbd554",
   "metadata": {},
   "outputs": [],
   "source": [
    "# time_CF100 = time_CF100/np.max(time_CF100)\n",
    "# time_CFsup = time_CFsup/np.max(time_CFsup)\n",
    "# time_Mini = time_Mini/np.max(time_Mini)"
   ]
  },
  {
   "cell_type": "code",
   "execution_count": 7,
   "id": "f8f78254",
   "metadata": {},
   "outputs": [],
   "source": [
    "time_mat = np.vstack([time_CF100, time_CFsup, time_Mini]).transpose()/1000/60/60"
   ]
  },
  {
   "cell_type": "code",
   "execution_count": 8,
   "id": "7c975306",
   "metadata": {},
   "outputs": [],
   "source": [
    "time_GPM = time_mat[0]\n",
    "time_TRGP = time_mat[1]\n",
    "time_SGP = time_mat[2]\n",
    "time_GPCNS = time_mat[3]\n",
    "time_SEGPCNS = time_mat[4]\n",
    "time_CGP = time_mat[5]\n",
    "time_Adam_NSCL = time_mat[6]"
   ]
  },
  {
   "cell_type": "code",
   "execution_count": 9,
   "id": "7e01d405",
   "metadata": {},
   "outputs": [
    {
     "data": {
      "text/plain": [
       "array([0.1873475 , 0.16545278, 0.49076333])"
      ]
     },
     "execution_count": 9,
     "metadata": {},
     "output_type": "execute_result"
    }
   ],
   "source": [
    "time_GPM"
   ]
  },
  {
   "cell_type": "code",
   "execution_count": 10,
   "id": "fae35e0b",
   "metadata": {},
   "outputs": [
    {
     "data": {
      "text/plain": [
       "array([0.55899056, 0.26984583, 0.76501056])"
      ]
     },
     "execution_count": 10,
     "metadata": {},
     "output_type": "execute_result"
    }
   ],
   "source": [
    "time_TRGP"
   ]
  },
  {
   "cell_type": "code",
   "execution_count": 11,
   "id": "10be2b6e",
   "metadata": {},
   "outputs": [
    {
     "data": {
      "text/plain": [
       "array([0.16107083, 0.17259028, 0.51456944])"
      ]
     },
     "execution_count": 11,
     "metadata": {},
     "output_type": "execute_result"
    }
   ],
   "source": [
    "time_SGP"
   ]
  },
  {
   "cell_type": "code",
   "execution_count": 12,
   "id": "8dcdeb96",
   "metadata": {
    "scrolled": true
   },
   "outputs": [
    {
     "data": {
      "text/plain": [
       "array([0.16110667, 0.26862917, 0.2694675 ])"
      ]
     },
     "execution_count": 12,
     "metadata": {},
     "output_type": "execute_result"
    }
   ],
   "source": [
    "time_GPCNS"
   ]
  },
  {
   "cell_type": "code",
   "execution_count": 13,
   "id": "1d602c99",
   "metadata": {},
   "outputs": [
    {
     "data": {
      "text/plain": [
       "array([ 2.14160669,  4.22042747, 10.49573339])"
      ]
     },
     "execution_count": 13,
     "metadata": {},
     "output_type": "execute_result"
    }
   ],
   "source": [
    "time_Adam_NSCL"
   ]
  },
  {
   "cell_type": "markdown",
   "id": "abba3e66",
   "metadata": {},
   "source": [
    "7709784.1/1000/60/60"
   ]
  },
  {
   "cell_type": "markdown",
   "id": "7f3e6fba",
   "metadata": {},
   "source": [
    "time_Adam_NSCL_CFSup/1000/60/60"
   ]
  },
  {
   "cell_type": "markdown",
   "id": "1b46df91",
   "metadata": {},
   "source": [
    "time_AdamNSCL = np.array([2.14, 4.22, 11.28*0.83])\n",
    "time_AdamNSCL"
   ]
  },
  {
   "cell_type": "markdown",
   "id": "2008f46f",
   "metadata": {},
   "source": [
    "time_CGP = np.array([time_CGP_CF100, time_CGP_CFsup, 0])/1000/60/60"
   ]
  },
  {
   "cell_type": "markdown",
   "id": "12d4dfe4",
   "metadata": {},
   "source": [
    "time_CGP[2] = 8.1"
   ]
  },
  {
   "cell_type": "code",
   "execution_count": 14,
   "id": "ec3fb9f4",
   "metadata": {
    "scrolled": false
   },
   "outputs": [
    {
     "data": {
      "text/plain": [
       "array([[ 0.1873475 ,  0.16545278,  0.49076333],\n",
       "       [ 0.55899056,  0.26984583,  0.76501056],\n",
       "       [ 0.16107083,  0.17259028,  0.51456944],\n",
       "       [ 0.16110667,  0.26862917,  0.2694675 ],\n",
       "       [ 0.17005722,  0.4496925 ,  0.78939472],\n",
       "       [ 1.73561383,  3.38257278, 10.08613853],\n",
       "       [ 2.14160669,  4.22042747, 10.49573339]])"
      ]
     },
     "execution_count": 14,
     "metadata": {},
     "output_type": "execute_result"
    }
   ],
   "source": [
    "time_mat"
   ]
  },
  {
   "cell_type": "code",
   "execution_count": 15,
   "id": "f135b236",
   "metadata": {},
   "outputs": [
    {
     "data": {
      "text/plain": [
       "<matplotlib.legend.Legend at 0x1152dc510>"
      ]
     },
     "execution_count": 15,
     "metadata": {},
     "output_type": "execute_result"
    },
    {
     "data": {
      "image/png": "[encoded data removed]",
      "text/plain": [
       "<Figure size 800x600 with 1 Axes>"
      ]
     },
     "metadata": {},
     "output_type": "display_data"
    }
   ],
   "source": [
    "x_list = [3,5.7,8.4]\n",
    "x = np.array(x_list, dtype=float)\n",
    "\n",
    "# plt.rcParams['font.sans-serif'] = ['Times New Roman']\n",
    "\n",
    "width = 0.25  \n",
    "\n",
    "fig, ax = plt.subplots(figsize=(8,6))\n",
    "rects1 = ax.bar(x = x-3*(width+0.05), height=time_GPM, width=width, label='GPM', color='lightcoral')\n",
    "rects2 = ax.bar(x = x-2*(width+0.05), height=time_TRGP, width=width, label='TRGP', color='darkorange')\n",
    "rects3 = ax.bar(x = x-1*(width+0.05), height=time_SGP, width=width, label='SGP', color='tan')\n",
    "rects4 = ax.bar(x = x+0*(width+0.05), height=time_GPCNS, width=width, label='GPCNS', color='seagreen', hatch='//')\n",
    "rects5 = ax.bar(x = x+1*(width+0.05), height=time_SEGPCNS, width=width, label='FE-GPCNS', color='turquoise', hatch='//')\n",
    "rects6 = ax.bar(x = x+2*(width+0.05), height=time_CGP, width=width, label='CGP', color='cornflowerblue')\n",
    "rects7 = ax.bar(x = x+3*(width+0.05), height=time_Adam_NSCL, width=width, label='Adam-NSCL', color='plum')\n",
    "\n",
    "\n",
    "plt.yticks(fontproperties='Times New Roman', size=24)\n",
    "plt.xticks(fontproperties='Times New Roman', size=24)\n",
    "\n",
    "\n",
    "ax.set_ylabel('Training Time (h)', size=25)\n",
    "plt.ylim(0, 12)\n",
    "plt.grid(linestyle='--')\n",
    "ax.set_xticks(x_list, ['CIFAR-100', 'Superclass', 'MiniImageNet'])\n",
    "ax.legend(fontsize=19.6)\n",
    "\n"
   ]
  },
  {
   "cell_type": "code",
   "execution_count": null,
   "id": "8bb41828",
   "metadata": {},
   "outputs": [],
   "source": []
  },
  {
   "cell_type": "code",
   "execution_count": null,
   "id": "cd4312c1",
   "metadata": {},
   "outputs": [],
   "source": []
  },
  {
   "cell_type": "code",
   "execution_count": null,
   "id": "5691adff",
   "metadata": {},
   "outputs": [],
   "source": []
  },
  {
   "cell_type": "code",
   "execution_count": null,
   "id": "49de2692",
   "metadata": {},
   "outputs": [],
   "source": []
  },
  {
   "cell_type": "code",
   "execution_count": null,
   "id": "8d011eec",
   "metadata": {},
   "outputs": [],
   "source": []
  },
  {
   "cell_type": "code",
   "execution_count": null,
   "id": "9d0a5458",
   "metadata": {},
   "outputs": [],
   "source": []
  },
  {
   "cell_type": "code",
   "execution_count": null,
   "id": "7b006a0c",
   "metadata": {},
   "outputs": [],
   "source": []
  },
  {
   "cell_type": "code",
   "execution_count": null,
   "id": "89e92e72",
   "metadata": {},
   "outputs": [],
   "source": []
  }
 ],
 "metadata": {
  "kernelspec": {
   "display_name": "Python 3 (ipykernel)",
   "language": "python",
   "name": "python3"
  },
  "language_info": {
   "codemirror_mode": {
    "name": "ipython",
    "version": 3
   },
   "file_extension": ".py",
   "mimetype": "text/x-python",
   "name": "python",
   "nbconvert_exporter": "python",
   "pygments_lexer": "ipython3",
   "version": "3.11.5"
  }
 },
 "nbformat": 4,
 "nbformat_minor": 5
}
