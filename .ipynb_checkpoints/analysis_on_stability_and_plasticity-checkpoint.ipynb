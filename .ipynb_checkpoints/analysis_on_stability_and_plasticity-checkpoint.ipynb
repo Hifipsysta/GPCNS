{
 "cells": [
  {
   "cell_type": "code",
   "execution_count": 1,
   "id": "ccef3d5f",
   "metadata": {},
   "outputs": [],
   "source": [
    "import numpy as np\n",
    "import matplotlib.pyplot as plt"
   ]
  },
  {
   "cell_type": "code",
   "execution_count": 2,
   "id": "d0e3459e",
   "metadata": {},
   "outputs": [],
   "source": [
    "gpcns_acc_str_last_task = '70.3%  66.3%  74.0%  72.4%  75.3%  77.1%  76.1%  74.5%  76.4%  81.6%'"
   ]
  },
  {
   "cell_type": "code",
   "execution_count": 3,
   "id": "eb6f17f8",
   "metadata": {},
   "outputs": [],
   "source": [
    "fegpcns_acc_str_last_task = '76.7%  72.1%  75.0%  73.6%  78.3%  76.2%  76.9%  74.9%  78.3%  80.5%'"
   ]
  },
  {
   "cell_type": "code",
   "execution_count": 4,
   "id": "c8e26a6d",
   "metadata": {},
   "outputs": [],
   "source": [
    "sgp_acc_str_last_task = '74.0%  70.1%  75.5%  73.3%  78.2%  77.3%  76.7%  75.0%  76.7%  80.1%'"
   ]
  },
  {
   "cell_type": "code",
   "execution_count": 5,
   "id": "48fd25bb",
   "metadata": {},
   "outputs": [],
   "source": [
    "fegpcns_acc_str_super_last_task = '49.6% 67.4% 61.4% 66.6% 66.8% 63.4% 60.8% 61.6% 55.6% 67.0% 77.6% 57.2% 61.2% 59.2% 33.0% 52.4% 48.4% 50.8% 60.4% 69.8%'"
   ]
  },
  {
   "cell_type": "code",
   "execution_count": 6,
   "id": "4794e60e",
   "metadata": {},
   "outputs": [],
   "source": [
    "gpcns_acc_str_super_last_task = '46.0% 64.8% 50.4% 61.0% 59.8% 60.4% 60.8% 61.2% 56.2% 63.0% 77.0% 58.4% 65.0% 59.6% 33.0% 54.2% 51.0% 53.8% 62.0% 72.4%'"
   ]
  },
  {
   "cell_type": "code",
   "execution_count": 7,
   "id": "6e75db7a",
   "metadata": {},
   "outputs": [],
   "source": [
    "trgp_acc_str_super_last_task = '69.5%  60.2%  61.9%  62.0%  57.4%  79.4%  64.8%  55.8%  74.1%  81.7%  43.6%  64.2%  61.4%  67.5%  61.3%  49.6%  55.6%  61.9%  68.6%  46.3% '"
   ]
  },
  {
   "cell_type": "code",
   "execution_count": 8,
   "id": "0b108bdb",
   "metadata": {},
   "outputs": [],
   "source": [
    "trgp_acc_list_mini = []\n",
    "with open('log/trgp_acc_str_mini.txt', 'r',encoding='utf-8') as f:\n",
    "    for line in f.readlines():\n",
    "        line = line.strip()\n",
    "        trgp_acc_list_mini.append(line)"
   ]
  },
  {
   "cell_type": "code",
   "execution_count": 9,
   "id": "a490b2fc",
   "metadata": {},
   "outputs": [
    {
     "data": {
      "text/plain": [
       "'62.3%  58.1%  60.0%  66.8%  59.4%  81.8%  66.8%  60.5%  71.3%  82.0%  49.4%  62.8%  61.7%  58.3%  69.7%  51.8%  54.0%  50.9%  71.1%  39.0%'"
      ]
     },
     "execution_count": 9,
     "metadata": {},
     "output_type": "execute_result"
    }
   ],
   "source": [
    "trgp_acc_str_mini_last_task = trgp_acc_list_mini[-1]\n",
    "trgp_acc_str_mini_last_task"
   ]
  },
  {
   "cell_type": "code",
   "execution_count": 10,
   "id": "120a5284",
   "metadata": {},
   "outputs": [],
   "source": [
    "fegpcns_acc_list_mini = []\n",
    "with open('log/fegpcns_acc_str_mini.txt', 'r',encoding='utf-8') as f:\n",
    "    for line in f.readlines():\n",
    "        line = line.strip()\n",
    "        fegpcns_acc_list_mini.append(line)"
   ]
  },
  {
   "cell_type": "code",
   "execution_count": 11,
   "id": "5e21786d",
   "metadata": {},
   "outputs": [
    {
     "data": {
      "text/plain": [
       "'70.4%  61.5%  61.3%  71.0%  62.1%  77.4%  65.6%  71.8%  79.2%  82.0%  48.0%  67.3%  63.0%  72.5%  65.9%  64.3%  58.6%  55.0%  69.5%  54.6%'"
      ]
     },
     "execution_count": 11,
     "metadata": {},
     "output_type": "execute_result"
    }
   ],
   "source": [
    "fegpcns_acc_str_mini_last_task = fegpcns_acc_list_mini[-1]\n",
    "fegpcns_acc_str_mini_last_task"
   ]
  },
  {
   "cell_type": "code",
   "execution_count": 12,
   "id": "19e519f6",
   "metadata": {},
   "outputs": [],
   "source": [
    "gpcns_acc_list_mini = []\n",
    "with open('log/gpcns_acc_str_mini.txt', 'r',encoding='utf-8') as f:\n",
    "    for line in f.readlines():\n",
    "        line = line.strip()\n",
    "        gpcns_acc_list_mini.append(line)"
   ]
  },
  {
   "cell_type": "code",
   "execution_count": 13,
   "id": "082e2d53",
   "metadata": {},
   "outputs": [
    {
     "data": {
      "text/plain": [
       "'59.0%  62.6%  55.2%  62.4%  57.2%  73.6%  56.8%  74.9%  72.2%  79.1%  43.8%  65.0%  61.4%  65.5%  62.1%  60.2%  59.5%  52.6%  72.8%  63.8%'"
      ]
     },
     "execution_count": 13,
     "metadata": {},
     "output_type": "execute_result"
    }
   ],
   "source": [
    "gpcns_acc_str_mini_last_task = gpcns_acc_list_mini[-1]\n",
    "gpcns_acc_str_mini_last_task"
   ]
  },
  {
   "cell_type": "code",
   "execution_count": 14,
   "id": "53342bcc",
   "metadata": {},
   "outputs": [],
   "source": [
    "def str2lst(string):\n",
    "    return [float(x) for x in string.replace('%', '').split()]  "
   ]
  },
  {
   "cell_type": "code",
   "execution_count": null,
   "id": "ba07a5b6",
   "metadata": {},
   "outputs": [],
   "source": []
  },
  {
   "cell_type": "code",
   "execution_count": 15,
   "id": "c91ad398",
   "metadata": {},
   "outputs": [
    {
     "data": {
      "text/plain": [
       "'59.0%  62.6%  55.2%  62.4%  57.2%  73.6%  56.8%  74.9%  72.2%  79.1%  43.8%  65.0%  61.4%  65.5%  62.1%  60.2%  59.5%  52.6%  72.8%  63.8%'"
      ]
     },
     "execution_count": 15,
     "metadata": {},
     "output_type": "execute_result"
    }
   ],
   "source": [
    "gpcns_acc_str_last_task\n",
    "fegpcns_acc_str_last_task\n",
    "sgp_acc_str_last_task\n",
    "\n",
    "fegpcns_acc_str_super_last_task\n",
    "gpcns_acc_str_super_last_task\n",
    "trgp_acc_str_super_last_task\n",
    "\n",
    "trgp_acc_str_mini_last_task\n",
    "fegpcns_acc_str_mini_last_task\n",
    "gpcns_acc_str_mini_last_task"
   ]
  },
  {
   "cell_type": "code",
   "execution_count": null,
   "id": "1484ef0a",
   "metadata": {},
   "outputs": [],
   "source": []
  },
  {
   "cell_type": "code",
   "execution_count": 16,
   "id": "462d225c",
   "metadata": {},
   "outputs": [],
   "source": [
    "gpcns_acc_last_task_list = str2lst(gpcns_acc_str_last_task)\n",
    "fegpcns_acc_last_task_list = str2lst(fegpcns_acc_str_last_task)\n",
    "sgp_acc_last_task_list = str2lst(sgp_acc_str_last_task)"
   ]
  },
  {
   "cell_type": "code",
   "execution_count": 17,
   "id": "2ef83399",
   "metadata": {},
   "outputs": [],
   "source": [
    "gpcns_super_acc_last_task_list = str2lst(gpcns_acc_str_super_last_task)\n",
    "fegpcns_super_acc_last_task_list = str2lst(fegpcns_acc_str_super_last_task)\n",
    "trgp_super_acc_last_task_list = str2lst(trgp_acc_str_super_last_task)"
   ]
  },
  {
   "cell_type": "code",
   "execution_count": 18,
   "id": "e565da8c",
   "metadata": {},
   "outputs": [],
   "source": [
    "gpcns_mini_acc_last_task_list = str2lst(gpcns_acc_str_mini_last_task)\n",
    "fegpcns_mini_acc_last_task_list = str2lst(fegpcns_acc_str_mini_last_task)\n",
    "trgp_mini_acc_last_task_list = str2lst(trgp_acc_str_mini_last_task)"
   ]
  },
  {
   "cell_type": "code",
   "execution_count": null,
   "id": "bb8753fe",
   "metadata": {},
   "outputs": [],
   "source": []
  },
  {
   "cell_type": "code",
   "execution_count": 19,
   "id": "646cae97",
   "metadata": {},
   "outputs": [],
   "source": [
    "cf100_gpcns = gpcns_acc_last_task_list[0], gpcns_acc_last_task_list[-1]\n",
    "cf100_fegpcns = fegpcns_acc_last_task_list[0], fegpcns_acc_last_task_list[-1]\n",
    "cf100_sgp = sgp_acc_last_task_list[0], sgp_acc_last_task_list[-1]"
   ]
  },
  {
   "cell_type": "code",
   "execution_count": 20,
   "id": "aefc75b7",
   "metadata": {},
   "outputs": [
    {
     "data": {
      "text/plain": [
       "((74.0, 80.1), (70.3, 81.6), (76.7, 80.5))"
      ]
     },
     "execution_count": 20,
     "metadata": {},
     "output_type": "execute_result"
    }
   ],
   "source": [
    "cf100_sgp, cf100_gpcns, cf100_fegpcns"
   ]
  },
  {
   "cell_type": "code",
   "execution_count": 21,
   "id": "efc2fabf",
   "metadata": {},
   "outputs": [],
   "source": [
    "sup_gpcns = gpcns_super_acc_last_task_list[0], gpcns_super_acc_last_task_list[-1]\n",
    "sup_fegpcns = fegpcns_super_acc_last_task_list[0], fegpcns_super_acc_last_task_list[-1]\n",
    "sup_trgp = trgp_super_acc_last_task_list[0], trgp_super_acc_last_task_list[-1]"
   ]
  },
  {
   "cell_type": "code",
   "execution_count": 22,
   "id": "e9048e60",
   "metadata": {},
   "outputs": [
    {
     "data": {
      "text/plain": [
       "((69.5, 46.3), (46.0, 72.4), (49.6, 69.8))"
      ]
     },
     "execution_count": 22,
     "metadata": {},
     "output_type": "execute_result"
    }
   ],
   "source": [
    "sup_trgp, sup_gpcns, sup_fegpcns"
   ]
  },
  {
   "cell_type": "code",
   "execution_count": 23,
   "id": "bc0bb1dd",
   "metadata": {},
   "outputs": [],
   "source": [
    "mini_gpcns = gpcns_mini_acc_last_task_list[0], gpcns_mini_acc_last_task_list[-1]\n",
    "mini_fegpcns = fegpcns_mini_acc_last_task_list[0], fegpcns_mini_acc_last_task_list[-1]\n",
    "mini_trgp = trgp_mini_acc_last_task_list[0], trgp_mini_acc_last_task_list[-1]"
   ]
  },
  {
   "cell_type": "code",
   "execution_count": 24,
   "id": "da3df142",
   "metadata": {},
   "outputs": [
    {
     "data": {
      "text/plain": [
       "((62.3, 39.0), (59.0, 63.8), (70.4, 54.6))"
      ]
     },
     "execution_count": 24,
     "metadata": {},
     "output_type": "execute_result"
    }
   ],
   "source": [
    "mini_trgp, mini_gpcns, mini_fegpcns"
   ]
  },
  {
   "cell_type": "code",
   "execution_count": 25,
   "id": "8842f28c",
   "metadata": {},
   "outputs": [
    {
     "data": {
      "text/plain": [
       "[74.0, 69.5, 62.3]"
      ]
     },
     "execution_count": 25,
     "metadata": {},
     "output_type": "execute_result"
    }
   ],
   "source": [
    "fsclp_first = [cf100_sgp[0], sup_trgp[0], mini_trgp[0]]\n",
    "fsclp_first"
   ]
  },
  {
   "cell_type": "code",
   "execution_count": 26,
   "id": "14e1a14e",
   "metadata": {},
   "outputs": [
    {
     "data": {
      "text/plain": [
       "[70.3, 46.0, 59.0]"
      ]
     },
     "execution_count": 26,
     "metadata": {},
     "output_type": "execute_result"
    }
   ],
   "source": [
    "gsclp_first = [cf100_gpcns[0], sup_gpcns[0], mini_gpcns[0]]\n",
    "gsclp_first"
   ]
  },
  {
   "cell_type": "code",
   "execution_count": 27,
   "id": "8d08de62",
   "metadata": {},
   "outputs": [
    {
     "data": {
      "text/plain": [
       "[76.7, 49.6, 70.4]"
      ]
     },
     "execution_count": 27,
     "metadata": {},
     "output_type": "execute_result"
    }
   ],
   "source": [
    "both_first = [cf100_fegpcns[0], sup_fegpcns[0], mini_fegpcns[0]]\n",
    "both_first"
   ]
  },
  {
   "cell_type": "code",
   "execution_count": 28,
   "id": "aea0b316",
   "metadata": {},
   "outputs": [
    {
     "data": {
      "text/plain": [
       "[80.1, 46.3, 39.0]"
      ]
     },
     "execution_count": 28,
     "metadata": {},
     "output_type": "execute_result"
    }
   ],
   "source": [
    "fsclp_last = [cf100_sgp[-1], sup_trgp[-1], mini_trgp[-1]]\n",
    "fsclp_last"
   ]
  },
  {
   "cell_type": "code",
   "execution_count": 29,
   "id": "613ffa8b",
   "metadata": {},
   "outputs": [
    {
     "data": {
      "text/plain": [
       "[81.6, 72.4, 63.8]"
      ]
     },
     "execution_count": 29,
     "metadata": {},
     "output_type": "execute_result"
    }
   ],
   "source": [
    "gsclp_last = [cf100_gpcns[-1], sup_gpcns[-1], mini_gpcns[-1]]\n",
    "gsclp_last"
   ]
  },
  {
   "cell_type": "code",
   "execution_count": 30,
   "id": "ccd600dd",
   "metadata": {},
   "outputs": [
    {
     "data": {
      "text/plain": [
       "[80.5, 69.8, 54.6]"
      ]
     },
     "execution_count": 30,
     "metadata": {},
     "output_type": "execute_result"
    }
   ],
   "source": [
    "both_last = [cf100_fegpcns[-1], sup_fegpcns[-1], mini_fegpcns[-1]]\n",
    "both_last"
   ]
  },
  {
   "cell_type": "code",
   "execution_count": null,
   "id": "d8c37a7b",
   "metadata": {},
   "outputs": [],
   "source": []
  },
  {
   "cell_type": "code",
   "execution_count": null,
   "id": "6c5c5a12",
   "metadata": {},
   "outputs": [],
   "source": []
  },
  {
   "cell_type": "code",
   "execution_count": 31,
   "id": "e82477aa",
   "metadata": {},
   "outputs": [],
   "source": [
    "# cf100_first = [cf100_gpm[0], cf100_gpcns[0], cf100_fegpcns[0]]\n",
    "# cf100_first"
   ]
  },
  {
   "cell_type": "code",
   "execution_count": 32,
   "id": "8e334319",
   "metadata": {},
   "outputs": [],
   "source": [
    "# sup_first = [sup_trgp[0], sup_gpcns[0], sup_fegpcns[0]]\n",
    "# sup_first"
   ]
  },
  {
   "cell_type": "code",
   "execution_count": 33,
   "id": "8c997cac",
   "metadata": {},
   "outputs": [],
   "source": [
    "# mini_first = [mini_trgp[0], mini_gpcns[0], mini_fegpcns[0]]\n",
    "# mini_first"
   ]
  },
  {
   "cell_type": "code",
   "execution_count": 34,
   "id": "1105d421",
   "metadata": {},
   "outputs": [],
   "source": [
    "# cf100_last = [cf100_gpm[-1], cf100_gpcns[-1], cf100_fegpcns[-1]]\n",
    "# cf100_last"
   ]
  },
  {
   "cell_type": "code",
   "execution_count": 35,
   "id": "557ba182",
   "metadata": {},
   "outputs": [],
   "source": [
    "# sup_last = [sup_trgp[-1],  sup_gpcns[-1], sup_fegpcns[-1]]\n",
    "# sup_last"
   ]
  },
  {
   "cell_type": "code",
   "execution_count": 36,
   "id": "ed654350",
   "metadata": {},
   "outputs": [],
   "source": [
    "# mini_last = [mini_trgp[-1], mini_gpcns[-1], mini_fegpcns[-1]]\n",
    "# mini_last"
   ]
  },
  {
   "cell_type": "code",
   "execution_count": null,
   "id": "bd3874b8",
   "metadata": {},
   "outputs": [],
   "source": []
  },
  {
   "cell_type": "code",
   "execution_count": null,
   "id": "2933a45d",
   "metadata": {},
   "outputs": [],
   "source": []
  },
  {
   "cell_type": "code",
   "execution_count": null,
   "id": "3290702e",
   "metadata": {},
   "outputs": [],
   "source": []
  },
  {
   "cell_type": "code",
   "execution_count": 37,
   "id": "586fc24b",
   "metadata": {},
   "outputs": [
    {
     "data": {
      "text/plain": [
       "<matplotlib.legend.Legend at 0x1224bf210>"
      ]
     },
     "execution_count": 37,
     "metadata": {},
     "output_type": "execute_result"
    },
    {
     "data": {
      "image/png": "[encoded data removed]",
      "text/plain": [
       "<Figure size 800x600 with 1 Axes>"
      ]
     },
     "metadata": {},
     "output_type": "display_data"
    }
   ],
   "source": [
    "x_list = [3,5.7,8.4]\n",
    "x = np.array(x_list, dtype=float)\n",
    "\n",
    "# plt.rcParams['font.sans-serif'] = ['Times New Roman']\n",
    "\n",
    "width = 0.45\n",
    "\n",
    "fig, ax = plt.subplots(figsize=(8,6))\n",
    "rects1 = ax.bar(x = x-1*(width+0.12), height=fsclp_first, width=width, label='FSCLP', color='lightcoral')\n",
    "rects2 = ax.bar(x = x+0*(width+0.12), height=gsclp_first, width=width, label='GPCNS', color='deepskyblue')\n",
    "rects3 = ax.bar(x = x+1*(width+0.12), height=both_first, width=width, label='FSCLP + GPCNS', color='mediumseagreen')\n",
    "\n",
    "\n",
    "plt.yticks(fontproperties='Times New Roman', size=24)\n",
    "plt.xticks(fontproperties='Times New Roman', size=24)\n",
    "\n",
    "\n",
    "ax.set_ylabel('Accuracy (%)', size=25)\n",
    "plt.ylim(0, 100)\n",
    "plt.grid(linestyle='--')\n",
    "ax.set_xticks(x_list, ['CIFAR-100', 'Superclass', 'MiniImageNet'])\n",
    "ax.legend(fontsize=15)"
   ]
  },
  {
   "cell_type": "code",
   "execution_count": 38,
   "id": "1ed1bce6",
   "metadata": {},
   "outputs": [
    {
     "data": {
      "text/plain": [
       "<matplotlib.legend.Legend at 0x122580450>"
      ]
     },
     "execution_count": 38,
     "metadata": {},
     "output_type": "execute_result"
    },
    {
     "data": {
      "image/png": "[encoded data removed]",
      "text/plain": [
       "<Figure size 800x600 with 1 Axes>"
      ]
     },
     "metadata": {},
     "output_type": "display_data"
    }
   ],
   "source": [
    "x_list = [3,5.7,8.4]\n",
    "x = np.array(x_list, dtype=float)\n",
    "\n",
    "# plt.rcParams['font.sans-serif'] = ['Times New Roman']\n",
    "\n",
    "width = 0.45 \n",
    "\n",
    "fig, ax = plt.subplots(figsize=(8,6))\n",
    "rects5 = ax.bar(x = x-1*(width+0.12), height=fsclp_last, width=width, label='FSCLP', color='lightcoral')\n",
    "rects6 = ax.bar(x = x+0*(width+0.12), height=gsclp_last, width=width, label='GPCNS', color='deepskyblue')\n",
    "rects7 = ax.bar(x = x+1*(width+0.12), height=both_last, width=width, label='FSCLP + GPCNS', color='mediumseagreen')\n",
    "\n",
    "\n",
    "plt.yticks(fontproperties='Times New Roman', size=24)\n",
    "plt.xticks(fontproperties='Times New Roman', size=24)\n",
    "\n",
    "\n",
    "ax.set_ylabel('Accuracy (%)', size=25)\n",
    "plt.ylim(0, 100)\n",
    "plt.grid(linestyle='--')\n",
    "ax.set_xticks(x_list, ['CIFAR-100', 'Superclass', 'MiniImageNet'])\n",
    "ax.legend(fontsize=15)"
   ]
  },
  {
   "cell_type": "code",
   "execution_count": null,
   "id": "5c013a22",
   "metadata": {},
   "outputs": [],
   "source": []
  },
  {
   "cell_type": "code",
   "execution_count": null,
   "id": "985cfbf0",
   "metadata": {},
   "outputs": [],
   "source": []
  },
  {
   "cell_type": "code",
   "execution_count": null,
   "id": "1da2e1bc",
   "metadata": {},
   "outputs": [],
   "source": []
  },
  {
   "cell_type": "code",
   "execution_count": null,
   "id": "c74bb9c7",
   "metadata": {},
   "outputs": [],
   "source": []
  },
  {
   "cell_type": "code",
   "execution_count": null,
   "id": "d8e54dda",
   "metadata": {},
   "outputs": [],
   "source": []
  },
  {
   "cell_type": "code",
   "execution_count": null,
   "id": "f1c3cde9",
   "metadata": {},
   "outputs": [],
   "source": []
  },
  {
   "cell_type": "code",
   "execution_count": null,
   "id": "5fcd0203",
   "metadata": {},
   "outputs": [],
   "source": []
  },
  {
   "cell_type": "code",
   "execution_count": null,
   "id": "38c42849",
   "metadata": {},
   "outputs": [],
   "source": []
  },
  {
   "cell_type": "code",
   "execution_count": null,
   "id": "93db1750",
   "metadata": {},
   "outputs": [],
   "source": []
  },
  {
   "cell_type": "code",
   "execution_count": null,
   "id": "a2dc0875",
   "metadata": {},
   "outputs": [],
   "source": []
  },
  {
   "cell_type": "code",
   "execution_count": null,
   "id": "4ad4e00a",
   "metadata": {},
   "outputs": [],
   "source": []
  },
  {
   "cell_type": "code",
   "execution_count": null,
   "id": "26c5d25c",
   "metadata": {},
   "outputs": [],
   "source": []
  },
  {
   "cell_type": "code",
   "execution_count": null,
   "id": "4c8dbe50",
   "metadata": {},
   "outputs": [],
   "source": []
  }
 ],
 "metadata": {
  "kernelspec": {
   "display_name": "Python 3 (ipykernel)",
   "language": "python",
   "name": "python3"
  },
  "language_info": {
   "codemirror_mode": {
    "name": "ipython",
    "version": 3
   },
   "file_extension": ".py",
   "mimetype": "text/x-python",
   "name": "python",
   "nbconvert_exporter": "python",
   "pygments_lexer": "ipython3",
   "version": "3.11.5"
  }
 },
 "nbformat": 4,
 "nbformat_minor": 5
}
