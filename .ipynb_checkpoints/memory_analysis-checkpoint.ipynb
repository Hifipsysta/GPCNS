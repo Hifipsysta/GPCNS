{
 "cells": [
  {
   "cell_type": "code",
   "execution_count": 1,
   "id": "bd640235",
   "metadata": {},
   "outputs": [],
   "source": [
    "import numpy as np\n",
    "import matplotlib.pyplot as plt"
   ]
  },
  {
   "cell_type": "code",
   "execution_count": 2,
   "id": "bf2bb215",
   "metadata": {},
   "outputs": [],
   "source": [
    "GPM_CF100_RSS=5549.88\n",
    "GPM_CF100_VMS=41049.96"
   ]
  },
  {
   "cell_type": "code",
   "execution_count": 3,
   "id": "bde44c5e",
   "metadata": {},
   "outputs": [],
   "source": [
    "TRGP_CF100_RSS=6858.51\n",
    "TRGP_CF100_VMS=41806.72"
   ]
  },
  {
   "cell_type": "code",
   "execution_count": 4,
   "id": "fcebc35f",
   "metadata": {},
   "outputs": [],
   "source": [
    "SGP_CF100_RSS = 5723.47 \n",
    "SGP_CF100_VMS = 40996.23"
   ]
  },
  {
   "cell_type": "code",
   "execution_count": 5,
   "id": "bc232180",
   "metadata": {},
   "outputs": [],
   "source": [
    "GPCNS_CF100_RSS=5113.43 \n",
    "GPCNS_CF100_VMS=25289.01"
   ]
  },
  {
   "cell_type": "code",
   "execution_count": 6,
   "id": "33a13170",
   "metadata": {},
   "outputs": [],
   "source": [
    "SEGPCNS_CF100_RSS=5639.24 \n",
    "SEGPCNS_CF100_VMS=44512.47"
   ]
  },
  {
   "cell_type": "code",
   "execution_count": 7,
   "id": "64b2fd5c",
   "metadata": {},
   "outputs": [],
   "source": [
    "CGP_CF100_RSS=25680.95\n",
    "CGP_CF100_VMS=46331.12"
   ]
  },
  {
   "cell_type": "code",
   "execution_count": 8,
   "id": "6ea05ecb",
   "metadata": {},
   "outputs": [],
   "source": [
    "AdamNSCL_CF100_RSS = 4555.39\n",
    "AdamNSCL_CF100_VMS = 20569.49"
   ]
  },
  {
   "cell_type": "code",
   "execution_count": null,
   "id": "0734e8fd",
   "metadata": {},
   "outputs": [],
   "source": []
  },
  {
   "cell_type": "code",
   "execution_count": 9,
   "id": "8bb490e9",
   "metadata": {},
   "outputs": [],
   "source": [
    "GPM_Super_RSS=5597.54\n",
    "GPM_Super_VMS=40864.19"
   ]
  },
  {
   "cell_type": "code",
   "execution_count": 10,
   "id": "0bbff2b0",
   "metadata": {},
   "outputs": [],
   "source": [
    "TRGP_Super_RSS=6415.74\n",
    "TRGP_Super_VMS=41298.36"
   ]
  },
  {
   "cell_type": "code",
   "execution_count": 11,
   "id": "d37a72ae",
   "metadata": {},
   "outputs": [],
   "source": [
    "SGP_Super_RSS = 5784.46\n",
    "SGP_Super_VMS = 40941.83"
   ]
  },
  {
   "cell_type": "code",
   "execution_count": 12,
   "id": "b04abf88",
   "metadata": {},
   "outputs": [],
   "source": [
    "GPCNS_Super_RSS=5083.54\n",
    "GPCNS_Super_VMS=28266.59"
   ]
  },
  {
   "cell_type": "code",
   "execution_count": 13,
   "id": "5599f0f8",
   "metadata": {},
   "outputs": [],
   "source": [
    "SEGPCNS_Super_RSS=6925.55\n",
    "SEGPCNS_Super_VMS=48183.1"
   ]
  },
  {
   "cell_type": "code",
   "execution_count": 14,
   "id": "412a4f87",
   "metadata": {},
   "outputs": [],
   "source": [
    "CGP_Super_RSS=30118.87\n",
    "CGP_Super_VMS=48749.64"
   ]
  },
  {
   "cell_type": "code",
   "execution_count": 15,
   "id": "900cedf4",
   "metadata": {},
   "outputs": [],
   "source": [
    "AdamNSCL_Super_RSS = 4556.19\n",
    "AdamNSCL_Super_VMS = 20534.26"
   ]
  },
  {
   "cell_type": "code",
   "execution_count": null,
   "id": "828e1be4",
   "metadata": {},
   "outputs": [],
   "source": []
  },
  {
   "cell_type": "code",
   "execution_count": 16,
   "id": "d74d2c74",
   "metadata": {},
   "outputs": [],
   "source": [
    "GPM_Mini_RSS=16391.86\n",
    "GPM_Mini_VMS=50113.38"
   ]
  },
  {
   "cell_type": "code",
   "execution_count": 17,
   "id": "7b58dc07",
   "metadata": {},
   "outputs": [],
   "source": [
    "TRGP_Mini_RSS = 18704.66\n",
    "TRGP_Mini_VMS = 54463.04"
   ]
  },
  {
   "cell_type": "code",
   "execution_count": 18,
   "id": "46fb2d80",
   "metadata": {},
   "outputs": [],
   "source": [
    "SGP_Mini_RSS = 18005.28 \n",
    "SGP_Mini_VMS = 51769.03"
   ]
  },
  {
   "cell_type": "code",
   "execution_count": 19,
   "id": "c81379f6",
   "metadata": {},
   "outputs": [],
   "source": [
    "GPCNS_Mini_RSS = 13234.23 \n",
    "GPCNS_Mini_VMS = 37631.15"
   ]
  },
  {
   "cell_type": "code",
   "execution_count": 20,
   "id": "0463105f",
   "metadata": {},
   "outputs": [],
   "source": [
    "SEGPCNS_Mini_RSS = 19501.76\n",
    "SEGPCNS_Mini_VMS = 56209.96"
   ]
  },
  {
   "cell_type": "code",
   "execution_count": 21,
   "id": "8ac96ad6",
   "metadata": {},
   "outputs": [],
   "source": [
    "CGP_Mini_RSS = 46829.44\n",
    "CGP_Mini_VMS = 62666.51"
   ]
  },
  {
   "cell_type": "code",
   "execution_count": 22,
   "id": "f0483cae",
   "metadata": {},
   "outputs": [],
   "source": [
    "AdamNSCL_Mini_RSS = 11895.24"
   ]
  },
  {
   "cell_type": "code",
   "execution_count": null,
   "id": "27d51fcc",
   "metadata": {},
   "outputs": [],
   "source": []
  },
  {
   "cell_type": "code",
   "execution_count": 23,
   "id": "c7491dc2",
   "metadata": {},
   "outputs": [],
   "source": [
    "RSS_CF = [GPM_CF100_RSS, TRGP_CF100_RSS, SGP_CF100_RSS, GPCNS_CF100_RSS, SEGPCNS_CF100_RSS, CGP_CF100_RSS, AdamNSCL_CF100_RSS]\n",
    "VMS_CF = [GPM_CF100_VMS, TRGP_CF100_VMS, SGP_CF100_VMS, GPCNS_CF100_VMS, SEGPCNS_CF100_VMS]\n",
    "RSS_Sup = [GPM_Super_RSS, TRGP_Super_RSS, SGP_Super_RSS, GPCNS_Super_RSS, SEGPCNS_Super_RSS, CGP_Super_RSS, AdamNSCL_Super_RSS]\n",
    "VMS_Sup = [GPM_Super_VMS, TRGP_Super_VMS, SGP_Super_VMS, GPCNS_Super_VMS, SEGPCNS_Super_VMS]\n",
    "RSS_Mini = [GPM_Mini_RSS, TRGP_Mini_RSS, SGP_Mini_RSS, GPCNS_Mini_RSS, SEGPCNS_Mini_RSS, CGP_Mini_RSS, AdamNSCL_Mini_RSS]\n",
    "VMS_Mini = [GPM_Mini_VMS, TRGP_Mini_VMS, SGP_Mini_VMS, GPCNS_Mini_VMS, SEGPCNS_Mini_VMS]"
   ]
  },
  {
   "cell_type": "code",
   "execution_count": null,
   "id": "f5692cb3",
   "metadata": {},
   "outputs": [],
   "source": []
  },
  {
   "cell_type": "code",
   "execution_count": 24,
   "id": "043ab6ff",
   "metadata": {},
   "outputs": [
    {
     "data": {
      "text/plain": [
       "array([[ 5.54988,  5.59754, 16.39186],\n",
       "       [ 6.85851,  6.41574, 18.70466],\n",
       "       [ 5.72347,  5.78446, 18.00528],\n",
       "       [ 5.11343,  5.08354, 13.23423],\n",
       "       [ 5.63924,  6.92555, 19.50176],\n",
       "       [25.68095, 30.11887, 46.82944],\n",
       "       [ 4.55539,  4.55619, 11.89524]])"
      ]
     },
     "execution_count": 24,
     "metadata": {},
     "output_type": "execute_result"
    }
   ],
   "source": [
    "RSS_mat = np.vstack([RSS_CF, RSS_Sup, RSS_Mini]).transpose()/1000\n",
    "RSS_mat"
   ]
  },
  {
   "cell_type": "code",
   "execution_count": 25,
   "id": "bb80b01c",
   "metadata": {},
   "outputs": [],
   "source": [
    "RSS_GPM = RSS_mat[0]\n",
    "RSS_TRGP = RSS_mat[1]\n",
    "RSS_SGP = RSS_mat[2]\n",
    "RSS_GPCNS = RSS_mat[3]\n",
    "RSS_SEGPCNS = RSS_mat[4]\n",
    "RSS_CGP = RSS_mat[5]\n",
    "RSS_AdamNSCL = RSS_mat[6]"
   ]
  },
  {
   "cell_type": "code",
   "execution_count": null,
   "id": "b3a5aa9d",
   "metadata": {},
   "outputs": [],
   "source": []
  },
  {
   "cell_type": "code",
   "execution_count": 26,
   "id": "b1df47cb",
   "metadata": {},
   "outputs": [
    {
     "data": {
      "text/plain": [
       "[<matplotlib.axis.XTick at 0x1153bfd50>,\n",
       " <matplotlib.axis.XTick at 0x1157b0590>,\n",
       " <matplotlib.axis.XTick at 0x1176f38d0>]"
      ]
     },
     "execution_count": 26,
     "metadata": {},
     "output_type": "execute_result"
    },
    {
     "data": {
      "image/png": "[encoded data removed]",
      "text/plain": [
       "<Figure size 800x600 with 1 Axes>"
      ]
     },
     "metadata": {},
     "output_type": "display_data"
    }
   ],
   "source": [
    "x_list = [3,5.7,8.4]\n",
    "x = np.array(x_list, dtype=float)\n",
    "\n",
    "# plt.rcParams['font.sans-serif'] = ['Times New Roman']\n",
    "\n",
    "width = 0.25  \n",
    "\n",
    "fig, ax = plt.subplots(figsize=(8,6))\n",
    "rects1 = ax.bar(x = x-3*(width+0.05), height=RSS_GPM, width=width, label='GPM', color='lightcoral')\n",
    "rects2 = ax.bar(x = x-2*(width+0.05), height=RSS_TRGP, width=width, label='TRGP', color='darkorange')\n",
    "rects3 = ax.bar(x = x-1*(width+0.05), height=RSS_SGP, width=width, label='SGP', color='tan')\n",
    "rects4 = ax.bar(x = x+0*(width+0.05), height=RSS_GPCNS, width=width, label='GPCNS', color='seagreen', hatch='//')\n",
    "rects5 = ax.bar(x = x+1*(width+0.05), height=RSS_SEGPCNS, width=width, label='SE-GPCNS', color='turquoise', hatch='//')\n",
    "rects6 = ax.bar(x = x+2*(width+0.05), height=RSS_CGP, width=width, label='CGP', color='cornflowerblue')\n",
    "rects7 = ax.bar(x = x+3*(width+0.05), height=RSS_AdamNSCL, width=width, label='Adam-NSCL', color='plum')\n",
    "\n",
    "\n",
    "plt.yticks(fontproperties='Times New Roman', size=24)\n",
    "plt.xticks(fontproperties='Times New Roman', size=24)\n",
    "\n",
    "\n",
    "ax.set_ylabel('Memory Usage (G)', size=25)\n",
    "# ax.set_xlabel('Training Time', size=13)\n",
    "ax.set_xticks(x_list)\n",
    "ax.set_xticklabels(x_list)\n",
    "# plt.ylim(1, 1.5)\n",
    "plt.ylim(0, 50)\n",
    "plt.grid(linestyle='--')\n",
    "ax.set_xticks(x_list, ['CIFAR-100', 'Superclass', 'MiniImageNet'])\n",
    "# ['10-Split CIFAR-100', '20-Split CIFAR-100 Superclass', '20-Split MiniImageNet']\n",
    "# ax.legend(fontsize=19.6)"
   ]
  },
  {
   "cell_type": "code",
   "execution_count": null,
   "id": "a6bdfaed",
   "metadata": {},
   "outputs": [],
   "source": []
  },
  {
   "cell_type": "code",
   "execution_count": null,
   "id": "3b4f73a4",
   "metadata": {},
   "outputs": [],
   "source": []
  },
  {
   "cell_type": "code",
   "execution_count": null,
   "id": "94e00a26",
   "metadata": {},
   "outputs": [],
   "source": []
  },
  {
   "cell_type": "code",
   "execution_count": null,
   "id": "ecabe2d9",
   "metadata": {},
   "outputs": [],
   "source": []
  },
  {
   "cell_type": "code",
   "execution_count": null,
   "id": "694e4c8b",
   "metadata": {},
   "outputs": [],
   "source": []
  },
  {
   "cell_type": "code",
   "execution_count": null,
   "id": "09659e52",
   "metadata": {},
   "outputs": [],
   "source": []
  }
 ],
 "metadata": {
  "kernelspec": {
   "display_name": "Python 3 (ipykernel)",
   "language": "python",
   "name": "python3"
  },
  "language_info": {
   "codemirror_mode": {
    "name": "ipython",
    "version": 3
   },
   "file_extension": ".py",
   "mimetype": "text/x-python",
   "name": "python",
   "nbconvert_exporter": "python",
   "pygments_lexer": "ipython3",
   "version": "3.11.5"
  }
 },
 "nbformat": 4,
 "nbformat_minor": 5
}
